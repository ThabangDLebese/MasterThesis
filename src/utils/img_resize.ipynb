{
 "cells": [
  {
   "cell_type": "code",
   "execution_count": 1,
   "metadata": {
    "collapsed": true
   },
   "outputs": [],
   "source": [
    "import os\n",
    "from PIL import Image\n",
    "import numpy as np\n",
    "from __future__ import print_function"
   ]
  },
  {
   "cell_type": "code",
   "execution_count": 3,
   "metadata": {
    "collapsed": true
   },
   "outputs": [],
   "source": [
    "# direction = \"./ddb1\"\n",
    "# save_path = \"./ddb1_RGB\"\n",
    "# if not os.path.exists(save_path):\n",
    "#         os.makedirs(save_path)\n",
    "# imglist = os.listdir(direction)"
   ]
  },
  {
   "cell_type": "code",
   "execution_count": 2,
   "metadata": {
    "collapsed": false
   },
   "outputs": [],
   "source": [
    "def crop(img):\n",
    "    imgarray = np.asarray(img,dtype=\"uint8\")  \n",
    "    arr0 = imgarray[:,:,0]+imgarray[:,:,1]+imgarray[:,:,2]\n",
    "    print(arr0.shape)\n",
    "    sum_column = arr0.sum(axis=0)\n",
    "    print(sum_column)\n",
    "    i,j = 0,len(sum_column)-1\n",
    "    start_column,end_column = i,j\n",
    "    while(sum_column[i] < sum_column.min()+(sum_column.max()-sum_column.min())/70):\n",
    "        start_column = i\n",
    "        i += 1\n",
    "    while(sum_column[j]< sum_column.min()+(sum_column.max()-sum_column.min())/70):\n",
    "        end_column = j\n",
    "        j -= 1\n",
    "\n",
    "    sum_row = arr0.sum(axis=1)\n",
    "    i,j = 0,len(sum_row)-1\n",
    "    start_row,end_row = i,j\n",
    "    while(sum_row[i]< sum_row.min()+(sum_row.max()-sum_row.min())/70):\n",
    "        start_row = i\n",
    "        i += 1\n",
    "    while(sum_row[j]< sum_row.min()+(sum_row.max()-sum_row.min())/70):\n",
    "        end_row = j\n",
    "        j -= 1\n",
    "\n",
    "    newarray = imgarray[start_row:end_row,start_column:end_column,:]\n",
    "    img = Image.fromarray(newarray,\"RGB\")\n",
    "    return img"
   ]
  },
  {
   "cell_type": "code",
   "execution_count": 3,
   "metadata": {
    "collapsed": true
   },
   "outputs": [],
   "source": [
    "def tosquare(img):\n",
    "    width,height = img.size   \n",
    "    if height<width:\n",
    "        black_len = (width - height)/2\n",
    "        imgarray = np.asarray(img)\n",
    "        newarray = np.zeros((128,128,3),dtype=\"uint8\")\n",
    "        newarray[black_len:black_len+height,:,:]=imgarray[:,:,:]\n",
    "        img = Image.fromarray(newarray,\"RGB\")\n",
    "    if height>width:\n",
    "        l = height - width\n",
    "        imgarray = np.asarray(img)\n",
    "        img = Image.fromarray(imgarray[0:height-l,:,:],\"RGB\")\n",
    "    return img"
   ]
  },
  {
   "cell_type": "code",
   "execution_count": null,
   "metadata": {
    "collapsed": false,
    "scrolled": false
   },
   "outputs": [
    {
     "name": "stdout",
     "output_type": "stream",
     "text": [
      "image name  13103_right.jpeg\n",
      "(3168, 4752)\n",
      "[0 0 0 ..., 0 0 0]\n",
      "image name  33156_left.jpeg\n",
      "(3264, 4928)\n",
      "[0 0 0 ..., 0 0 0]\n",
      "image name  41167_left.jpeg\n",
      "(2592, 3888)\n",
      "[268 259 253 ..., 301 307 329]\n",
      "image name  15948_left.jpeg\n",
      "(2304, 3456)\n",
      "[0 0 0 ..., 0 0 0]\n",
      "image name  5740_left.jpeg\n",
      "(1944, 2592)\n",
      "[0 0 0 ..., 0 0 0]\n",
      "image name  39368_left.jpeg\n",
      "(3264, 4928)\n",
      "[0 0 0 ..., 0 0 0]\n",
      "image name  14008_left.jpeg\n",
      "(2592, 3888)\n",
      "[ 429  432  432 ..., 1152 1158 1167]\n",
      "image name  22852_right.jpeg\n",
      "(3264, 4928)\n",
      "[112 112 112 ...,   0   0   0]\n",
      "image name  41893_left.jpeg\n",
      "(2592, 3888)\n",
      "[ 0  0  0 ..., 63 64 65]\n",
      "image name  22870_right.jpeg\n",
      "(1920, 2560)\n",
      "[0 0 0 ..., 0 0 0]\n",
      "image name  37616_right.jpeg\n",
      "(2336, 3504)\n",
      "[2178 2171 2156 ..., 2219 2225 2226]\n",
      "image name  29146_right.jpeg\n",
      "(1920, 2560)\n",
      "[0 0 0 ..., 0 0 0]\n",
      "image name  10288_right.jpeg\n",
      "(1920, 2560)\n",
      "[0 0 0 ..., 0 0 0]\n",
      "image name  36660_right.jpeg\n",
      "(3168, 4752)\n",
      "[  0   0   0 ..., 177 178 176]\n",
      "image name  24875_left.jpeg\n",
      "(2304, 3456)\n",
      "[0 0 0 ..., 0 0 0]\n",
      "image name  43143_right.jpeg\n",
      "(1920, 2560)\n",
      "[0 0 0 ..., 0 0 0]\n",
      "image name  30862_left.jpeg\n",
      "(2336, 3504)\n",
      "[120  80  71 ..., 289 290 295]\n",
      "image name  4899_left.jpeg\n",
      "(1920, 2560)\n",
      "[0 0 0 ..., 0 0 0]\n",
      "image name  29227_left.jpeg\n",
      "(2336, 3504)\n",
      "[289 286 262 ...,  96 102 102]\n",
      "image name  41478_left.jpeg\n",
      "(1664, 2496)\n",
      "[1712 1753 1902 ...,  362  373  376]\n",
      "image name  41279_right.jpeg\n",
      "(2592, 3888)\n",
      "[0 0 0 ..., 0 0 0]\n",
      "image name  34012_left.jpeg\n",
      "(1944, 2592)\n",
      "[0 0 0 ..., 0 0 0]\n",
      "image name  34468_left.jpeg\n",
      "(2592, 3888)\n",
      "[700 695 696 ..., 339 349 364]\n",
      "image name  23428_right.jpeg\n",
      "(3168, 4752)\n",
      "[0 0 0 ..., 0 0 0]\n",
      "image name  40386_right.jpeg\n",
      "(1944, 2592)\n",
      "[0 0 0 ..., 0 0 0]\n",
      "image name  23428_left.jpeg\n",
      "(3168, 4752)\n",
      "[ 0  0  0 ..., 69 70 72]\n",
      "image name  14044_left.jpeg\n",
      "(2000, 3008)\n",
      "[0 0 0 ..., 0 0 0]\n",
      "image name  11527_left.jpeg\n",
      "(1920, 2560)\n",
      "[0 0 0 ..., 0 0 0]\n",
      "image name  24752_left.jpeg\n",
      "(2592, 3888)\n",
      "[707 674 653 ..., 882 863 864]\n",
      "image name  13066_left.jpeg\n",
      "(3264, 4928)\n",
      "[96 96 96 ..., 94 94 94]\n",
      "image name  24983_right.jpeg\n",
      "(2000, 3008)\n",
      "[0 0 0 ..., 0 0 0]\n",
      "image name  27759_left.jpeg\n",
      "(1944, 2592)\n",
      "[0 0 0 ..., 0 0 0]\n",
      "image name  44187_left.jpeg\n",
      "(1944, 2592)\n",
      "[0 0 0 ..., 0 0 0]\n",
      "image name  14778_left.jpeg\n",
      "(2336, 3504)\n",
      "[21181 19827 18198 ..., 19126 19909 20307]\n",
      "image name  15454_right.jpeg\n",
      "(3264, 4928)\n",
      "[216 216 216 ...,   0   0   0]\n",
      "image name  35084_right.jpeg\n",
      "(3264, 4928)\n",
      "[192 192 192 ...,   0   0   0]\n",
      "image name  367_right.jpeg\n",
      "(2592, 3888)\n",
      "[0 0 0 ..., 0 0 0]\n",
      "image name  3422_right.jpeg\n",
      "(2000, 3008)\n",
      "[0 0 0 ..., 0 0 0]\n",
      "image name  33669_left.jpeg\n",
      "(3168, 4752)\n",
      "[0 0 0 ..., 0 0 0]\n",
      "image name  41039_left.jpeg\n",
      "(1944, 2592)\n",
      "[0 0 0 ..., 0 0 0]\n",
      "image name  11910_left.jpeg\n",
      "(3168, 4752)\n",
      "[0 0 0 ..., 0 0 0]\n",
      "image name  3984_right.jpeg\n",
      "(1944, 2592)\n",
      "[0 0 0 ..., 0 0 0]\n",
      "image name  12448_left.jpeg\n",
      "(2848, 4272)\n",
      "[146 141 137 ..., 167 163 161]\n",
      "image name  27804_left.jpeg\n",
      "(2592, 3888)\n",
      "[535 526 522 ..., 211 230 242]\n",
      "image name  17494_left.jpeg\n",
      "(1944, 2592)\n",
      "[0 0 0 ..., 0 0 0]\n"
     ]
    }
   ],
   "source": [
    "if __name__ == \"__main__\":\n",
    "    direction = \"./Kaggledata/train\"\n",
    "    save_path = \"./128diabet\"\n",
    "    if not os.path.exists(save_path):\n",
    "            os.makedirs(save_path)\n",
    "    imglist = os.listdir(direction)\n",
    "    for i in xrange(len(imglist)):\n",
    "        imgname = imglist[i]\n",
    "        print(\"image name \", imgname)\n",
    "        img = Image.open(direction+\"/\"+imgname) \n",
    "        # resize by library function\n",
    "#         img.thumbnail((512, 512), Image.ANTIALIAS)\n",
    "        img = crop(img)\n",
    "        width,height = img.size\n",
    "        img = img.resize((128,128*height/width))    \n",
    "        img = tosquare(img)\n",
    "        img.save(save_path+\"/\"+imgname)"
   ]
  },
  {
   "cell_type": "code",
   "execution_count": 27,
   "metadata": {
    "collapsed": false
   },
   "outputs": [],
   "source": [
    "direction = \"./ddb1/images\"\n",
    "save_path = \"./ddb1_RGB128\"\n",
    "imglist = os.listdir(direction)\n",
    "n_instaces = len(imglist)\n",
    "master_dataset = list()\n"
   ]
  },
  {
   "cell_type": "code",
   "execution_count": 28,
   "metadata": {
    "collapsed": false
   },
   "outputs": [],
   "source": [
    "import os,random\n",
    "os.environ[\"KERAS_BACKEND\"] = \"theano\"\n"
   ]
  },
  {
   "cell_type": "code",
   "execution_count": 10,
   "metadata": {
    "collapsed": false
   },
   "outputs": [
    {
     "name": "stdout",
     "output_type": "stream",
     "text": [
      "<module 'keras.datasets.mnist' from '/home/sinan/anaconda2/envs/gl-env/lib/python2.7/site-packages/keras/datasets/mnist.pyc'>\n"
     ]
    }
   ],
   "source": [
    "print(mnist)"
   ]
  },
  {
   "cell_type": "code",
   "execution_count": 29,
   "metadata": {
    "collapsed": false
   },
   "outputs": [],
   "source": [
    "file_path = \"./ddb1_RGB128\" \n",
    "for i in xrange(len(imglist)):\n",
    "        imgname = imglist[i]\n",
    "#         print(\"image name \", imgname)\n",
    "        img = Image.open(file_path+\"/\"+imgname)\n",
    "        \n",
    "#         image = Image.open(os.path.join(root, dirname, file))\n",
    "#         print \"Creating numpy representation of image %s \" % file\n",
    "#         resize = image.resize((300,300), Image.NEAREST) \n",
    "#         resize.load()\n",
    "        data = np.asarray( img, dtype=\"uint8\" )\n",
    "#         print(data.shape)\n",
    "        master_dataset.append(data)\n",
    "        #show image\n",
    "#         img.show() \n",
    "#         img = crop(img)\n",
    "#         width,height = img.size\n",
    "#         img = img.resize((64,64*height/width))     #resize image\n",
    "#         img = tosquare(img)\n",
    "#         img.save(save_path+\"/\"+imgname)\n"
   ]
  },
  {
   "cell_type": "code",
   "execution_count": 30,
   "metadata": {
    "collapsed": false
   },
   "outputs": [
    {
     "data": {
      "text/plain": [
       "(128, 128, 3)"
      ]
     },
     "execution_count": 30,
     "metadata": {},
     "output_type": "execute_result"
    }
   ],
   "source": [
    "# print(master_dataset[1].shape)\n",
    "# master_dataset = np.asarray(master_dataset,dtype=\"uint8\")\n",
    "# print(master_dataset[0].shape)\n",
    "# X_train = master_dataset.reshape(3, 128, 128)\n",
    "train_x = np.stack(master_dataset)\n",
    "train_x[0].shape"
   ]
  },
  {
   "cell_type": "code",
   "execution_count": 32,
   "metadata": {
    "collapsed": false
   },
   "outputs": [],
   "source": [
    "# train_x = train_x.reshape(3, 128, 128).astype('float32')\n",
    "# # X_train = train_x.reshape(train_x[0],3, 128, 128)\n",
    "for i in xrange(len(imglist)):\n",
    "    x = np.transpose(train_x[i] , (2, 0, 1))\n",
    "#     x = np.reshape(train_x[i],3, 128, 128)\n",
    "    master_dataset[i] = x"
   ]
  },
  {
   "cell_type": "code",
   "execution_count": 24,
   "metadata": {
    "collapsed": true
   },
   "outputs": [],
   "source": [
    "# x = np.transpose(train_x[i] , (2, 0, 1))"
   ]
  },
  {
   "cell_type": "code",
   "execution_count": 33,
   "metadata": {
    "collapsed": false
   },
   "outputs": [
    {
     "data": {
      "text/plain": [
       "(3, 128, 128)"
      ]
     },
     "execution_count": 33,
     "metadata": {},
     "output_type": "execute_result"
    }
   ],
   "source": [
    "train_x = np.stack(master_dataset)\n",
    "train_x[5].shape"
   ]
  },
  {
   "cell_type": "code",
   "execution_count": 35,
   "metadata": {
    "collapsed": false,
    "scrolled": true
   },
   "outputs": [
    {
     "data": {
      "text/plain": [
       "(3, 128, 128)"
      ]
     },
     "execution_count": 35,
     "metadata": {},
     "output_type": "execute_result"
    }
   ],
   "source": [
    "train_x[5].shape\n"
   ]
  },
  {
   "cell_type": "code",
   "execution_count": 37,
   "metadata": {
    "collapsed": false
   },
   "outputs": [],
   "source": [
    "img = Image.fromarray(train_x[0] ,\"RGB\")\n",
    "img.show()\n"
   ]
  }
 ],
 "metadata": {
  "anaconda-cloud": {},
  "kernelspec": {
   "display_name": "Python [conda env:gl-env]",
   "language": "python",
   "name": "conda-env-gl-env-py"
  },
  "language_info": {
   "codemirror_mode": {
    "name": "ipython",
    "version": 2
   },
   "file_extension": ".py",
   "mimetype": "text/x-python",
   "name": "python",
   "nbconvert_exporter": "python",
   "pygments_lexer": "ipython2",
   "version": "2.7.12"
  }
 },
 "nbformat": 4,
 "nbformat_minor": 1
}
